{
  "nbformat": 4,
  "nbformat_minor": 0,
  "metadata": {
    "colab": {
      "provenance": [],
      "authorship_tag": "ABX9TyOktnYlBSa5tpZxSeR1TQMK",
      "include_colab_link": true
    },
    "kernelspec": {
      "name": "python3",
      "display_name": "Python 3"
    },
    "language_info": {
      "name": "python"
    }
  },
  "cells": [
    {
      "cell_type": "markdown",
      "metadata": {
        "id": "view-in-github",
        "colab_type": "text"
      },
      "source": [
        "<a href=\"https://colab.research.google.com/github/2303A51256/AIML/blob/main/lab1_py.ipynb\" target=\"_parent\"><img src=\"https://colab.research.google.com/assets/colab-badge.svg\" alt=\"Open In Colab\"/></a>"
      ]
    },
    {
      "cell_type": "code",
      "source": [],
      "metadata": {
        "id": "lA3TglDVptfy"
      },
      "execution_count": null,
      "outputs": []
    },
    {
      "cell_type": "code",
      "execution_count": 5,
      "metadata": {
        "colab": {
          "base_uri": "https://localhost:8080/"
        },
        "collapsed": true,
        "id": "Y0vqI9NIm3P1",
        "outputId": "0f22cf34-4477-42b7-8103-d606247340ef"
      },
      "outputs": [
        {
          "output_type": "stream",
          "name": "stdout",
          "text": [
            "Enter No.of elements in a list : 3\n",
            "Enter element : 7\n",
            "Enter element : 8\n",
            "Enter element : 4\n",
            "[7, 8, 4]\n",
            "<class 'list'>\n",
            "[7 8 4]\n",
            "<class 'numpy.ndarray'>\n",
            "Enter No.of elements in a list : 3\n",
            "Enter element : 9\n",
            "Enter element : 6\n",
            "Enter element : 5\n",
            "[9, 6, 5]\n",
            "<class 'list'>\n",
            "[9 6 5]\n",
            "<class 'numpy.ndarray'>\n",
            "Multiplication :  [63 48 20]\n",
            "Division :  [0.77777778 1.33333333 0.8       ]\n",
            "Exponent :  [40353607   262144     1024]\n"
          ]
        }
      ],
      "source": [
        "import numpy as np\n",
        "import pandas as pd\n",
        "l = []\n",
        "n = int(input(\"Enter No.of elements in a list : \"))\n",
        "while (n>0):\n",
        "  e = int(input(\"Enter element : \"))\n",
        "  l.append(e)\n",
        "  n-=1\n",
        "print(l)\n",
        "arr1 = np.array(l)\n",
        "print(type(l))\n",
        "print(arr1)\n",
        "print(type(arr1))\n",
        "m = []\n",
        "n = int(input(\"Enter No.of elements in a list : \"))\n",
        "while (n>0):\n",
        "  e = int(input(\"Enter element : \"))\n",
        "  m.append(e)\n",
        "  n-=1\n",
        "print(m)\n",
        "arr2 = np.array(m)\n",
        "print(type(m))\n",
        "print(arr2)\n",
        "print(type(arr2))\n",
        "print(\"Multiplication : \",arr1*arr2)\n",
        "print(\"Division : \",arr1/arr2)\n",
        "print(\"Exponent : \",arr1**arr2)\n",
        "print(\"Addition : \",arr1+arr2)\n",
        "p = np.sin(arr1)\n",
        "q = np.log(arr1)\n",
        "r = np.log2(arr2)\n",
        "s = np.exp(arr1)\n",
        "print(p)\n",
        "print(q)\n",
        "print(r)\n",
        "print(s)\n",
        "\n",
        "\n",
        "\n"
      ]
    }
  ]
}