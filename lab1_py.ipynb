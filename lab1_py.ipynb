{
  "nbformat": 4,
  "nbformat_minor": 0,
  "metadata": {
    "colab": {
      "provenance": [],
      "authorship_tag": "ABX9TyO+kpAfjq3n7dncGDI5YmUa",
      "include_colab_link": true
    },
    "kernelspec": {
      "name": "python3",
      "display_name": "Python 3"
    },
    "language_info": {
      "name": "python"
    }
  },
  "cells": [
    {
      "cell_type": "markdown",
      "metadata": {
        "id": "view-in-github",
        "colab_type": "text"
      },
      "source": [
        "<a href=\"https://colab.research.google.com/github/2303A51256/AIML/blob/main/lab1_py.ipynb\" target=\"_parent\"><img src=\"https://colab.research.google.com/assets/colab-badge.svg\" alt=\"Open In Colab\"/></a>"
      ]
    },
    {
      "cell_type": "code",
      "source": [],
      "metadata": {
        "id": "lA3TglDVptfy"
      },
      "execution_count": null,
      "outputs": []
    },
    {
      "cell_type": "code",
      "execution_count": 10,
      "metadata": {
        "colab": {
          "base_uri": "https://localhost:8080/"
        },
        "collapsed": true,
        "id": "Y0vqI9NIm3P1",
        "outputId": "574b164e-0fa7-4666-aa92-ebfd32897872"
      },
      "outputs": [
        {
          "output_type": "stream",
          "name": "stdout",
          "text": [
            "Enter No.of elements in a list : 3\n",
            "Enter element : 1\n",
            "Enter element : 6\n",
            "Enter element : 7\n",
            "[1, 6, 7]\n",
            "<class 'list'>\n",
            "[1 6 7]\n",
            "<class 'numpy.ndarray'>\n",
            "Enter No.of elements in a list : 3\n",
            "Enter element : 3\n",
            "Enter element : 4\n",
            "Enter element : 9\n",
            "[3, 4, 9]\n",
            "<class 'list'>\n",
            "[3 4 9]\n",
            "<class 'numpy.ndarray'>\n",
            "Multiplication :  [ 3 24 63]\n",
            "Division :  [0.33333333 1.5        0.77777778]\n",
            "Exponent :  [       1     1296 40353607]\n",
            "Addition :  [ 4 10 16]\n",
            "[ 0.84147098 -0.2794155   0.6569866 ]\n",
            "[0.         1.79175947 1.94591015]\n",
            "[1.5849625 2.        3.169925 ]\n",
            "[   2.71828183  403.42879349 1096.63315843]\n",
            "Vineeth Puneriya\n"
          ]
        }
      ],
      "source": [
        "import numpy as np\n",
        "import pandas as pd\n",
        "l = []\n",
        "n = int(input(\"Enter No.of elements in a list : \"))\n",
        "while (n>0):\n",
        "  e = int(input(\"Enter element : \"))\n",
        "  l.append(e)\n",
        "  n-=1\n",
        "print(l)\n",
        "arr1 = np.array(l)\n",
        "print(type(l))\n",
        "print(arr1)\n",
        "print(type(arr1))\n",
        "m = []\n",
        "n = int(input(\"Enter No.of elements in a list : \"))\n",
        "while (n>0):\n",
        "  e = int(input(\"Enter element : \"))\n",
        "  m.append(e)\n",
        "  n-=1\n",
        "print(m)\n",
        "arr2 = np.array(m)\n",
        "print(type(m))\n",
        "print(arr2)\n",
        "print(type(arr2))\n",
        "print(\"Multiplication : \",arr1*arr2)\n",
        "print(\"Division : \",arr1/arr2)\n",
        "print(\"Exponent : \",arr1**arr2)\n",
        "print(\"Addition : \",arr1+arr2)\n",
        "p = np.sin(arr1)\n",
        "q = np.log(arr1)\n",
        "r = np.log2(arr2)\n",
        "s = np.exp(arr1)\n",
        "print(p)\n",
        "print(q)\n",
        "print(r)\n",
        "print(s)\n",
        "st1 = \"Vineeth\"\n",
        "st2 = \" Puneriya\"\n",
        "print(st1+st2)\n",
        "\n",
        "\n"
      ]
    }
  ]
}