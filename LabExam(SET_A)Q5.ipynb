{
  "nbformat": 4,
  "nbformat_minor": 0,
  "metadata": {
    "colab": {
      "provenance": [],
      "authorship_tag": "ABX9TyMRndUkCHo8Qa5gPeytpZ57",
      "include_colab_link": true
    },
    "kernelspec": {
      "name": "python3",
      "display_name": "Python 3"
    },
    "language_info": {
      "name": "python"
    }
  },
  "cells": [
    {
      "cell_type": "markdown",
      "metadata": {
        "id": "view-in-github",
        "colab_type": "text"
      },
      "source": [
        "<a href=\"https://colab.research.google.com/github/2303A51256/AIML/blob/main/LabExam(SET_A)Q5.ipynb\" target=\"_parent\"><img src=\"https://colab.research.google.com/assets/colab-badge.svg\" alt=\"Open In Colab\"/></a>"
      ]
    },
    {
      "cell_type": "code",
      "execution_count": 2,
      "metadata": {
        "colab": {
          "base_uri": "https://localhost:8080/"
        },
        "id": "HidWEYPjV4OX",
        "outputId": "0ca3d266-b8f5-4856-a3da-2d102a4ad6fc"
      },
      "outputs": [
        {
          "output_type": "stream",
          "name": "stdout",
          "text": [
            "Q1. Most Appreciated Recipe: Rustic Italian Tortellini Soup\n",
            "Q2. Top 5 Recipes Prepared the Most: ['Cheeseburger Soup', 'Creamy White Chili', 'Best Ever Banana Bread', 'Enchilada Casser-Ole!', 'Basic Homemade Bread']\n",
            "Q3. Recipe with Most User Delight: Amish Breakfast Casserole\n",
            "Q4. Recipe with Highest Reputation: Cheeseburger Soup\n",
            "Q5. Most Ordered Recipes Among Top 100: ['Cheeseburger Soup', 'Creamy White Chili', 'Best Ever Banana Bread', 'Enchilada Casser-Ole!', 'Basic Homemade Bread']\n"
          ]
        }
      ],
      "source": [
        "import pandas as pd\n",
        "data = pd.read_csv(\"recipe.csv\")"
      ]
    },
    {
      "cell_type": "code",
      "source": [
        "# Q1\n",
        "most_appreciated_recipe = (\n",
        "    data.groupby(\"recipe_name\")[\"stars\"]\n",
        "    .mean()\n",
        "    .sort_values(ascending=False)\n",
        "    .idxmax()\n",
        ")"
      ],
      "metadata": {
        "id": "eR3t_vyAahAW"
      },
      "execution_count": null,
      "outputs": []
    },
    {
      "cell_type": "code",
      "source": [
        "# Q2\n",
        "top_5_recipes_prepared = (\n",
        "    data[\"recipe_name\"]\n",
        "    .value_counts()\n",
        "    .head(5)\n",
        "    .index.tolist()\n",
        ")"
      ],
      "metadata": {
        "id": "6bBo0wwaaeVd"
      },
      "execution_count": null,
      "outputs": []
    },
    {
      "cell_type": "code",
      "source": [
        "# Q3\n",
        "    data.groupby(\"recipe_name\")[\"thumbs_up\"]\n",
        "    .sum()\n",
        "    .sort_values(ascending=False)\n",
        "    .idxmax()\n",
        ")\n"
      ],
      "metadata": {
        "id": "xEIyY_XhaVYM"
      },
      "execution_count": null,
      "outputs": []
    },
    {
      "cell_type": "code",
      "source": [
        "# Q4\n",
        "    data.groupby(\"recipe_name\")[\"user_reputation\"]\n",
        "    .sum()\n",
        "    .sort_values(ascending=False)\n",
        "    .idxmax()\n",
        ")"
      ],
      "metadata": {
        "id": "xvNcWdp5aZ1n"
      },
      "execution_count": null,
      "outputs": []
    },
    {
      "cell_type": "code",
      "source": [
        "# Q5\n",
        "most_ordered_recipes = (\n",
        "    data[\"recipe_name\"]\n",
        "    .value_counts()\n",
        "    .head(100)\n",
        "    .index.tolist()\n",
        ")"
      ],
      "metadata": {
        "id": "ExIojgtqZgkF"
      },
      "execution_count": null,
      "outputs": []
    },
    {
      "cell_type": "code",
      "source": [
        "print(\"Q1. Most Appreciated Recipe:\", most_appreciated_recipe)\n",
        "print(\"Q2. Top 5 Recipes Prepared the Most:\", top_5_recipes_prepared)\n",
        "print(\"Q3. Recipe with Most User Delight:\", most_user_delight_recipe)\n",
        "print(\"Q4. Recipe with Highest Reputation:\", highest_reputation_recipe)\n",
        "print(\"Q5. Most Ordered Recipes Among Top 100:\", most_ordered_recipes[:5])"
      ],
      "metadata": {
        "colab": {
          "base_uri": "https://localhost:8080/"
        },
        "id": "bEB5LZOOa_C8",
        "outputId": "9b544a54-dd9b-4d00-be0d-67976dd763a0"
      },
      "execution_count": 3,
      "outputs": [
        {
          "output_type": "stream",
          "name": "stdout",
          "text": [
            "Q1. Most Appreciated Recipe: Rustic Italian Tortellini Soup\n",
            "Q2. Top 5 Recipes Prepared the Most: ['Cheeseburger Soup', 'Creamy White Chili', 'Best Ever Banana Bread', 'Enchilada Casser-Ole!', 'Basic Homemade Bread']\n",
            "Q3. Recipe with Most User Delight: Amish Breakfast Casserole\n",
            "Q4. Recipe with Highest Reputation: Cheeseburger Soup\n",
            "Q5. Most Ordered Recipes Among Top 100: ['Cheeseburger Soup', 'Creamy White Chili', 'Best Ever Banana Bread', 'Enchilada Casser-Ole!', 'Basic Homemade Bread']\n"
          ]
        }
      ]
    }
  ]
}